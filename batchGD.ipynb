{
 "cells": [
  {
   "cell_type": "markdown",
   "id": "dbe37ca9-25e3-485b-8ac1-af10af3b2eab",
   "metadata": {},
   "source": [
    "### Batch Gradient Descent with early stopping for Softmax Regression"
   ]
  },
  {
   "cell_type": "code",
   "execution_count": 1,
   "id": "c349d632-b71d-4f1a-a134-7c3622d7eb41",
   "metadata": {},
   "outputs": [],
   "source": [
    "# import numpy and the function to load the dataset\n",
    "import numpy as np\n",
    "from sklearn.datasets import load_iris\n",
    "import matplotlib.pyplot as plt\n",
    "from math import ceil"
   ]
  },
  {
   "cell_type": "code",
   "execution_count": 2,
   "id": "615042c0-36d2-495e-95ef-80d599582a5b",
   "metadata": {},
   "outputs": [
    {
     "data": {
      "text/plain": [
       "['sepal length (cm)',\n",
       " 'sepal width (cm)',\n",
       " 'petal length (cm)',\n",
       " 'petal width (cm)']"
      ]
     },
     "execution_count": 2,
     "metadata": {},
     "output_type": "execute_result"
    }
   ],
   "source": [
    "# load the data\n",
    "iris = dict(load_iris())\n",
    "X = iris[\"data\"]\n",
    "y = iris[\"target\"]\n",
    "iris[\"feature_names\"]"
   ]
  },
  {
   "cell_type": "code",
   "execution_count": 3,
   "id": "e5308de5-f46e-4450-b8e9-abb4bfd9ddc3",
   "metadata": {},
   "outputs": [
    {
     "data": {
      "text/plain": [
       "(150, 5)"
      ]
     },
     "execution_count": 3,
     "metadata": {},
     "output_type": "execute_result"
    }
   ],
   "source": [
    "# create another variable for the intercept\n",
    "iris[\"feature_names\"].insert(0, \"intercept\")\n",
    "intercept = np.ones((len(y), 1))\n",
    "X = np.concatenate((intercept, X), axis=1)\n",
    "X.shape"
   ]
  },
  {
   "cell_type": "code",
   "execution_count": 4,
   "id": "4e6570a0-ec86-43e9-9f8d-4258a686a4ae",
   "metadata": {},
   "outputs": [],
   "source": [
    "# function to split the dataset\n",
    "def split(X, y, test_ratio, val_ratio, seed = 42):\n",
    "    '''\n",
    "    Returns X and y arrays for train, test and \n",
    "    validation in that order\n",
    "    '''\n",
    "    # get sizes for each set\n",
    "    n = len(y)\n",
    "    test_size = int(n * test_ratio)\n",
    "    val_size = int(n * val_ratio)\n",
    "    train_size = n - test_size - val_size\n",
    "\n",
    "    # set random seed\n",
    "    np.random.seed(seed)\n",
    "\n",
    "    # select the indices for each set\n",
    "    indices = np.random.permutation(n)\n",
    "    train_indices = indices[:train_size]\n",
    "    test_indices = indices[train_size:-val_size]\n",
    "    val_indices = indices[-val_size:]\n",
    "\n",
    "    # returns selected instances\n",
    "    return (X[train_indices], y[train_indices], \n",
    "            X[test_indices], y[test_indices],\n",
    "            X[val_indices], y[val_indices])"
   ]
  },
  {
   "cell_type": "code",
   "execution_count": 5,
   "id": "5cbf7510-0352-40a4-9bf0-b32c1f6fe44d",
   "metadata": {},
   "outputs": [],
   "source": [
    "# split the dataset\n",
    "test_ratio = 0.2\n",
    "val_ratio = 0.2\n",
    "X_train, y_train, X_test, y_test, X_val, y_val = \\\n",
    "    split(X, y, test_ratio, val_ratio)"
   ]
  },
  {
   "cell_type": "code",
   "execution_count": 6,
   "id": "272dcd40-178a-488c-9ae3-c00b3f283a0f",
   "metadata": {},
   "outputs": [],
   "source": [
    "# one hot encode the labels\n",
    "def one_hot(y):\n",
    "    '''\n",
    "    Returns one hot encoded matrix\n",
    "    '''\n",
    "    # identity matrix\n",
    "    identity = np.eye(y.max() + 1)\n",
    "    \n",
    "    # select a different row for each class\n",
    "    return identity[y]"
   ]
  },
  {
   "cell_type": "code",
   "execution_count": 7,
   "id": "dd9c41f3-1e8e-43d9-b2a8-f03a941baaa3",
   "metadata": {},
   "outputs": [],
   "source": [
    "y_train_oh = one_hot(y_train)\n",
    "y_val_oh = one_hot(y_val)\n",
    "y_test_oh = one_hot(y_test)"
   ]
  },
  {
   "cell_type": "code",
   "execution_count": 8,
   "id": "7e16b70c-3217-47b8-8274-12b8dd33e6fa",
   "metadata": {},
   "outputs": [],
   "source": [
    "# center and scale the data\n",
    "# important to use the mean and std from the train set\n",
    "mean = X_train[:, 1:].mean(axis=0)\n",
    "std = X_train[:, 1:].std(axis=0)\n",
    "X_train[:, 1:] = (X_train[:, 1:] - mean) / std\n",
    "X_val[:, 1:] = (X_val[:, 1:] - mean) / std\n",
    "X_test[:, 1:] = (X_test[:, 1:] - mean) / std"
   ]
  },
  {
   "cell_type": "code",
   "execution_count": 9,
   "id": "b25c4283-df55-4eb2-8f75-7257bd89f7e3",
   "metadata": {},
   "outputs": [],
   "source": [
    "# define the softmax function\n",
    "def softmax(linear_comb):\n",
    "    exps = np.exp(linear_comb)\n",
    "    sums = exps.sum(axis=1, keepdims=True)\n",
    "    return exps / sums"
   ]
  },
  {
   "cell_type": "code",
   "execution_count": 10,
   "id": "ad5b1341-2cb0-473e-a7f1-5991a3f875dc",
   "metadata": {},
   "outputs": [],
   "source": [
    "n_inputs = X_train.shape[1]  \n",
    "n_outputs = len(np.unique(y_train))  "
   ]
  },
  {
   "cell_type": "code",
   "execution_count": 11,
   "id": "3fce2800-c806-476e-a103-197b90ed6c49",
   "metadata": {},
   "outputs": [
    {
     "name": "stdout",
     "output_type": "stream",
     "text": [
      "0 4.003995705544368\n",
      "10000 0.2718829714406774\n",
      "5.551115123125783e-17 early stopping!\n"
     ]
    }
   ],
   "source": [
    "# early stopping mini batch\n",
    "\n",
    "def learning_schedule(t):\n",
    "    t0, t1 = 200, 1000 \n",
    "    return t0 / (t + t1)\n",
    "\n",
    "m = len(X_train)\n",
    "n_epochs = 50001\n",
    "minibatch_size = 90\n",
    "n_batches_per_epoch = ceil(m / minibatch_size)\n",
    "\n",
    "epsilon = 1e-5\n",
    "C = 100  # regularization hyperparameter\n",
    "best_loss = np.infty\n",
    "\n",
    "np.random.seed(42)\n",
    "Theta = np.random.randn(n_inputs, n_outputs)\n",
    "losses = []\n",
    "\n",
    "for epoch in range(n_epochs):\n",
    "    shuffled_indices = np.random.permutation(m)\n",
    "    X_b_shuffled = X_train[shuffled_indices]\n",
    "    y_shuffled = y_train_oh[shuffled_indices]\n",
    "\n",
    "    for iteration in range(n_batches_per_epoch):\n",
    "\n",
    "        idx = iteration * minibatch_size\n",
    "        xi = X_b_shuffled[idx : idx + minibatch_size]\n",
    "        yi = y_shuffled[idx : idx + minibatch_size]\n",
    "        \n",
    "        yi_proba = softmax(xi @ Theta)\n",
    "        yi_proba_valid = softmax(X_val @ Theta)\n",
    "\n",
    "        xentropy_losses = -(y_val_oh * np.log(yi_proba_valid + epsilon))\n",
    "        l2_loss = 0.5 * (Theta[1:] ** 2).sum()\n",
    "\n",
    "        total_loss = xentropy_losses.sum(axis=1).mean() + 1 / C * l2_loss\n",
    "\n",
    "        losses.append(total_loss)\n",
    "    \n",
    "        error = yi_proba - yi\n",
    "        gradients = 1 / m * xi.T @ error\n",
    "        gradients += np.r_[np.zeros([1, n_outputs]), 1 / C * Theta[1:]]\n",
    "        eta = learning_schedule(iteration)\n",
    "        Theta = Theta - eta * gradients\n",
    "        \n",
    "    if epoch % 10000 == 0:\n",
    "        print(epoch, total_loss)\n",
    "    mean_loss = np.mean(losses[-100:])\n",
    "    if mean_loss <= best_loss:\n",
    "        best_loss = mean_loss\n",
    "    else:\n",
    "        print(mean_loss - best_loss, \"early stopping!\")\n",
    "        break"
   ]
  },
  {
   "cell_type": "code",
   "execution_count": 12,
   "id": "e50dcfe6-dd3d-47c5-8f29-2e9e0232812c",
   "metadata": {},
   "outputs": [
    {
     "data": {
      "image/png": "[encoded data removed]",
      "text/plain": [
       "<Figure size 640x480 with 1 Axes>"
      ]
     },
     "metadata": {},
     "output_type": "display_data"
    }
   ],
   "source": [
    "plt.plot(losses);\n",
    "plt.ylim(0.27,0.3);"
   ]
  },
  {
   "cell_type": "code",
   "execution_count": 13,
   "id": "9109632e-a5b0-42f6-b960-02b5126975d5",
   "metadata": {},
   "outputs": [
    {
     "data": {
      "text/plain": [
       "0.9666666666666667"
      ]
     },
     "execution_count": 13,
     "metadata": {},
     "output_type": "execute_result"
    }
   ],
   "source": [
    "logits = X_val @ Theta\n",
    "Y_proba = softmax(logits)\n",
    "y_predict = Y_proba.argmax(axis=1)\n",
    "\n",
    "accuracy_score = (y_predict == y_val).mean()\n",
    "accuracy_score"
   ]
  },
  {
   "cell_type": "code",
   "execution_count": 14,
   "id": "34d345fd-c16d-4ed2-8275-39c4141dc9ea",
   "metadata": {},
   "outputs": [
    {
     "data": {
      "text/plain": [
       "0.9333333333333333"
      ]
     },
     "execution_count": 14,
     "metadata": {},
     "output_type": "execute_result"
    }
   ],
   "source": [
    "logits = X_test @ Theta\n",
    "Y_proba = softmax(logits)\n",
    "y_predict = Y_proba.argmax(axis=1)\n",
    "\n",
    "accuracy_score = (y_predict == y_test).mean()\n",
    "accuracy_score"
   ]
  }
 ],
 "metadata": {
  "kernelspec": {
   "display_name": "Python 3 (ipykernel)",
   "language": "python",
   "name": "python3"
  },
  "language_info": {
   "codemirror_mode": {
    "name": "ipython",
    "version": 3
   },
   "file_extension": ".py",
   "mimetype": "text/x-python",
   "name": "python",
   "nbconvert_exporter": "python",
   "pygments_lexer": "ipython3",
   "version": "3.10.10"
  }
 },
 "nbformat": 4,
 "nbformat_minor": 5
}
